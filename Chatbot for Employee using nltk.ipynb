{
 "cells": [
  {
   "cell_type": "code",
   "execution_count": 4,
   "id": "b1abf9b8",
   "metadata": {},
   "outputs": [],
   "source": [
    "import nltk\n",
    "from nltk.chat.util import Chat, reflections"
   ]
  },
  {
   "cell_type": "code",
   "execution_count": 5,
   "id": "3a810e40",
   "metadata": {},
   "outputs": [],
   "source": [
    "reflections = {\n",
    "  \"i am\"       : \"you are\",\n",
    "  \"i was\"      : \"you were\",\n",
    "  \"i\"          : \"you\",\n",
    "  \"i'm\"        : \"you are\",\n",
    "  \"i'd\"        : \"you would\",\n",
    "  \"i've\"       : \"you have\",\n",
    "  \"i'll\"       : \"you will\",\n",
    "  \"my\"         : \"your\",\n",
    "  \"you are\"    : \"I am\",\n",
    "  \"you were\"   : \"I was\",\n",
    "  \"you've\"     : \"I have\",\n",
    "  \"you'll\"     : \"I will\",\n",
    "  \"your\"       : \"my\",\n",
    "  \"yours\"      : \"mine\",\n",
    "  \"you\"        : \"me\",\n",
    "  \"me\"         : \"you\"\n",
    "}"
   ]
  },
  {
   "cell_type": "code",
   "execution_count": 6,
   "id": "4fc9dc42",
   "metadata": {},
   "outputs": [],
   "source": [
    "pairs = [\n",
    "    [\n",
    "        r\"hi|hey|hello\",\n",
    "        [\"Hello\",]\n",
    "        \n",
    "    ], \n",
    "    [\n",
    "        r\"what is your name ?|name pls|how can I call you?\",\n",
    "        [\"I am chatbot here to help you\",]\n",
    "    ],\n",
    "         \n",
    "    [\n",
    "        r\"my name is (.*)\",\n",
    "        [\"Hello %1, your suggestion pls\",]\n",
    "    ],\n",
    "    \n",
    "    [\n",
    "        r\"What steps can we take to enhance employee training and development opportunities?\",\n",
    "        [\"Identify the skills and knowledge gaps within the organization.Align training and development goals with the company's overall strategic objectives.\"]\n",
    "    ],\n",
    "     [\n",
    "        r\"Do you have plans to update our office facilities to provide a more comfortable and collaborative environment?\",\n",
    "        [\" yes :) The organization is plain to that it will done with the couple of month\"]\n",
    "    ],\n",
    "     [\n",
    "        r\"What strategies are being considered to improve internal communication and information sharing?\",\n",
    "        [\" Utilize communication tools like Slack, Microsoft Teams, or similar platforms to facilitate real-time messaging, file sharing, and group discussions\"]\n",
    "    ],\n",
    "    [\n",
    "        r\"How can the company support employees in managing their mental health and well-being?\",\n",
    "        [\" The Organization having a support team as Employee Assistance Programs (EAPs) every month the employee having appoiment\"]\n",
    "    ],\n",
    "     [\n",
    "        r\"Are there opportunities for cross-functional collaboration or team-building activities?|fun time\",\n",
    "        [\"Every Month End Friday will be the fun day or time\",]\n",
    "    ],\n",
    "    \n",
    "\n",
    "    [\n",
    "        r\"quit\",\n",
    "        [\"It was nice talking to you. See you soon :)\",]\n",
    "    ],\n",
    "]"
   ]
  },
  {
   "cell_type": "code",
   "execution_count": 9,
   "id": "5ea0d8ce",
   "metadata": {},
   "outputs": [
    {
     "name": "stdout",
     "output_type": "stream",
     "text": [
      "I am a chatbot  create to help you\n",
      ">hi\n",
      "Hello\n",
      ">how can I call you?\n",
      "I am chatbot here to help you\n",
      ">What steps can we take to enhance employee training and development opportunities?\n",
      "Identify the skills and knowledge gaps within the organization.Align training and development goals with the company's overall strategic objectives.\n",
      ">What strategies are being considered to improve internal communication and information sharing?\n",
      " Utilize communication tools like Slack, Microsoft Teams, or similar platforms to facilitate real-time messaging, file sharing, and group discussions\n",
      ">fun time\n",
      "Every Month End Friday will be the fun day or time\n",
      ">quit\n",
      "It was nice talking to you. See you soon :)\n"
     ]
    }
   ],
   "source": [
    "def chat():\n",
    "    print(\"I am a chatbot  create to help you\")\n",
    "    chat = Chat(pairs, reflections)\n",
    "    chat.converse()\n",
    "#initiate the conversation\n",
    "if __name__ == \"__main__\":\n",
    "    chat()"
   ]
  }
 ],
 "metadata": {
  "kernelspec": {
   "display_name": "Python 3 (ipykernel)",
   "language": "python",
   "name": "python3"
  },
  "language_info": {
   "codemirror_mode": {
    "name": "ipython",
    "version": 3
   },
   "file_extension": ".py",
   "mimetype": "text/x-python",
   "name": "python",
   "nbconvert_exporter": "python",
   "pygments_lexer": "ipython3",
   "version": "3.9.12"
  }
 },
 "nbformat": 4,
 "nbformat_minor": 5
}
